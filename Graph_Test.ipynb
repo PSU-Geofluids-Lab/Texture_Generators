{
 "cells": [
  {
   "cell_type": "code",
   "execution_count": 2,
   "id": "c10caedf-7c81-4952-bbbb-298f60f39849",
   "metadata": {},
   "outputs": [],
   "source": [
    "import matplotlib.pyplot as plt\n",
    "from matplotlib.pyplot import figure\n",
    "import networkx as nx\n",
    "import seaborn as sns\n",
    "import numpy as np\n",
    "import mpl_toolkits.axes_grid1 as axgrid\n",
    "from mpl_toolkits.axes_grid1 import make_axes_locatable\n",
    "import os\n",
    "\n",
    "import structify_net as stn\n",
    "import structify_net.viz as viz\n",
    "import structify_net.zoo as zoo\n",
    "import structify_net.scoring as scoring\n",
    "import numpy as np\n",
    "\n",
    "import sarabande\n"
   ]
  },
  {
   "cell_type": "code",
   "execution_count": 13,
   "id": "da7b1857-dd06-4cc5-a7f9-be0c6715502e",
   "metadata": {},
   "outputs": [],
   "source": [
    "def Make_rank_matrix(rank_model,nodeOrder=None,ax=None,**kwargs):\n",
    "    \"\"\"\n",
    "    Plot a matrix of the graph, ordered by nodePair_order\n",
    "    graph: a networkx graph\n",
    "    nodePair_order: a list of node pairs, from the most likely to the less likely\n",
    "    nodeOrder: a list of nodes, ordered by the order in which they should appear in the matrix\n",
    "    \"\"\"\n",
    "    nodePair_order=rank_model.sortedPairs\n",
    "    if nodeOrder!=None:\n",
    "        n=len(nodeOrder)\n",
    "    else:\n",
    "        n=len(set([n for e in nodePair_order for n in e]))\n",
    "    matrix = np.zeros((n,n))\n",
    "    for i,e in enumerate(nodePair_order):\n",
    "        e_l=list(e)\n",
    "        matrix[e_l[0],e_l[1]]=i\n",
    "        matrix[e_l[1],e_l[0]]=i\n",
    "    if nodeOrder!=None:\n",
    "        matrix=matrix[nodeOrder,:]\n",
    "        matrix=matrix[:,nodeOrder]\n",
    "    # heatmap_args={'cmap':\"YlGnBu_r\",'cbar':False,'xticklabels':False,'yticklabels':False}\n",
    "    # for k,v in kwargs.items():\n",
    "    #     heatmap_args[k]=v\n",
    "    # m = sns.heatmap(matrix,ax=ax,**heatmap_args)\n",
    "    # plt.show()\n",
    "    return matrix"
   ]
  },
  {
   "cell_type": "code",
   "execution_count": 14,
   "id": "b258278b-0ffd-4fed-a365-406db7dd0f48",
   "metadata": {},
   "outputs": [
    {
     "name": "stdout",
     "output_type": "stream",
     "text": [
      "/nModel Name : ER\n"
     ]
    },
    {
     "ename": "NameError",
     "evalue": "name 'sss' is not defined",
     "output_type": "error",
     "traceback": [
      "\u001b[0;31m---------------------------------------------------------------------------\u001b[0m",
      "\u001b[0;31mNameError\u001b[0m                                 Traceback (most recent call last)",
      "Cell \u001b[0;32mIn[14], line 12\u001b[0m\n\u001b[1;32m     10\u001b[0m matrix \u001b[38;5;241m=\u001b[39m Make_rank_matrix(rank_model,nodeOrder \u001b[38;5;241m=\u001b[39m rank_model\u001b[38;5;241m.\u001b[39mnode_order)\n\u001b[1;32m     11\u001b[0m matrix \u001b[38;5;241m=\u001b[39m matrix\u001b[38;5;241m/\u001b[39mnp\u001b[38;5;241m.\u001b[39mmax(matrix)\n\u001b[0;32m---> 12\u001b[0m \u001b[43msss\u001b[49m\n",
      "\u001b[0;31mNameError\u001b[0m: name 'sss' is not defined"
     ]
    }
   ],
   "source": [
    "  p =0.1\n",
    "  n =128\n",
    "  plt.close('all')\n",
    "  all_mods = zoo.get_all_rank_models(n=128,m=(n*p)**2.)\n",
    "  name_models = all_mods.keys()\n",
    "  for name in name_models:\n",
    "    print('/n'+f'Model Name : {name}')\n",
    "    rank_model = all_mods[name]\n",
    "    #os.makedirs(f'/content/drive/MyDrive/Texture_PCF/{name}_p{p}_ep{epsilon}', exist_ok=True)\n",
    "    matrix = Make_rank_matrix(rank_model,nodeOrder = rank_model.node_order)\n",
    "    matrix = matrix/np.max(matrix)\n",
    "    sss"
   ]
  },
  {
   "cell_type": "code",
   "execution_count": null,
   "id": "fe0c067c-5b0a-4b84-ae8e-a9cddd1b5f3c",
   "metadata": {},
   "outputs": [],
   "source": []
  }
 ],
 "metadata": {
  "kernelspec": {
   "display_name": "Python 3 (ipykernel)",
   "language": "python",
   "name": "python3"
  },
  "language_info": {
   "codemirror_mode": {
    "name": "ipython",
    "version": 3
   },
   "file_extension": ".py",
   "mimetype": "text/x-python",
   "name": "python",
   "nbconvert_exporter": "python",
   "pygments_lexer": "ipython3",
   "version": "3.12.3"
  }
 },
 "nbformat": 4,
 "nbformat_minor": 5
}
