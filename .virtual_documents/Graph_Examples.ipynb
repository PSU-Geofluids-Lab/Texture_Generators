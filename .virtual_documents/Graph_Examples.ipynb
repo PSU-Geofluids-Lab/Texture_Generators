import importlib as oe
import Generators as gen
import porespy as ps
from Generators import RandomGenerator
from Plotting import ImagePlotter
import matplotlib.pylab as plt
import gc
import numpy as np
import metrics_images as mtr
gc.collect()



oe.reload(gen)
# Usage Example
# Generate texture
generator = gen.Graph_Generators(p=0.2,epsilon=.3)
texture_data = generator.generate('fractal_hierarchy')
generator.make_spatial_realization()

# Plot the result
#ImagePlotter.plot(texture_data, title=generator.model_name)
ImagePlotter.plot(generator.data_spring, title=generator.model_name)
# Save in multiple formats
# generator.to_csv()
# generator.to_png()
# generator.save_all()
# generator.binarize_data(percentile_val=30)
# generator.to_png()
gc.collect()
print(generator.porosity)


oe.reload(gen)
# Usage Example
# Generate texture
generator = gen.Graph_NetworkX_Generators(size=128)
texture_data = generator.generate('connected_caveman_graph')
#texture_data = generator.generate('gaussian_random_partition_graph',s=20,v=1,p_in=.4,p_out=0.01)
generator.make_spatial_realization(target_porosity=0.1)

# Plot the result
#ImagePlotter.plot(texture_data, title=generator.model_name)
ImagePlotter.plot(generator.data, title=generator.model_name)
# Save in multiple formats
# generator.to_csv()
# generator.to_png()
# generator.save_all()
# generator.binarize_data(percentile_val=30)
# generator.to_png()
gc.collect()
print(generator.porosity)


oe.reload(gen)

# Usage Example
if __name__ == "__main__":
    # Generate texture
    base_name = "blobs"
    generator = gen.PoresPyGenerator(size=(128, 128),name=base_name)
    texture_data =generator.generate(porosity=None,blobiness=[.3,.5])
    
    #Plot the result
    ImagePlotter.plot(texture_data, title='PorePy Texture')
gc.collect()



import Hilbertize_image as hilbert_code
oe.reload(hilbert_code)
t, intensities,locs = hilbert_code.make_hilbert_curve(generator.data,save_locs=True,
                                                 plot_hilbert=False,plot_reconstructed=False,
                                                 plot_hilbert_reconstructed=False,
                                                 save_to_file=False,num_bits=7)


import Plotting_spectra as pyspt
#coefficients, frequencies = pywt.cwt(intensities, np.arange(.1, 100), 'mexh', sampling_period=1.)
pyspt.simple_cwt_spectra_plotting(intensities,
                                  lower_freq=0.001,
                                  vmax=.1,vmin=0.01,log_power=False)





import metrics_timeseries as mtr
oe.reload(mtr)
features_antr,features_tsfel = mtr.generate_stat_features(intensities)


features_antr


gc.collect()






from ts2vg import NaturalVG
import networkx as nx
import numpy as np
import matplotlib.pyplot as plt


# 2. Build visibility graph
g = NaturalVG(directed=None).build(intensities)
nxg = g.as_networkx()

# 3. Make plots
fig, [ax0, ax1] = plt.subplots(ncols=1,nrows=2, figsize=(12, 6),height_ratios=(1,10))

ax0.plot(intensities,linewidth=0.1)
ax0.set_title("Time Series")

graph_plot_options = {
    "with_labels": False,
    "node_size": 2,
    "node_color": [(0, 0, 0, 1)],
    "edge_color": [(0, 0, 0, 0.15)],
}
print('here')
nx.draw_networkx(nxg, ax=ax1, pos=g.node_positions(), **graph_plot_options)
ax1.tick_params(bottom=True, labelbottom=True)
ax1.plot(intensities,linewidth=0.01)
ax1.set_title("Visibility Graph")

# print('here2')
# nx.draw_networkx(nxg, ax=ax2, pos=nx.spring_layout(nxg))
# ax2.set_title("Visibility Graph")



# 3. Get degree distribution
ks, ps = g.degree_distribution

# 4. Make plots
fig, [ax0, ax1, ax2] = plt.subplots(nrows=3, figsize=(12, 12))

ax0.plot(intensities, c="#000", linewidth=.1)
ax0.set_title("Time Series")
ax0.set_xlabel("t")

ax1.scatter(ks, ps, s=2, c="#000", alpha=1)
ax1.set_title("Degree Distribution")
ax1.set_xlabel("k")
ax1.set_ylabel("P(k)")

ax2.scatter(ks, ps, s=2, c="#000", alpha=1)
ax2.set_yscale("log")
ax2.set_xscale("log")
ax2.set_title("Degree Distribution (log-log)")
ax2.set_xlabel("k")
ax2.set_ylabel("P(k)")


from cdlib import algorithms


leiden_coms = algorithms.louvain(nxg,resolution= 0.7,randomize = False)
print(leiden_coms.average_internal_degree())
print(leiden_coms.erdos_renyi_modularity())


leiden_coms = algorithms.congo(nxg,number_communities=20)
print(leiden_coms.average_internal_degree())
print(leiden_coms.erdos_renyi_modularity())


# from cdlib import evaluation
# from cdlib import ensemble

# resolution = ensemble.Parameter(name="resolution", start=0.1, end=1, step=0.3)
# randomize = ensemble.BoolParameter(name="randomize")
# louvain_conf = [resolution, randomize]

# epsilon = ensemble.Parameter(name="epsilon", start=0.2, end=0.7, step=0.1)
# demon_conf = [epsilon]

# methods = [algorithms.louvain, algorithms.demon]

# for coms, scoring in ensemble.pool_grid_filter(nxg, methods, [louvain_conf, demon_conf], quality_score=evaluation.erdos_renyi_modularity, aggregate=max):
#     print("%s\nCommunities:\n %s \nConfiguration: %s \nScoring: %s\n" %(coms.method_name, coms.communities, coms.method_parameters, scoring))





#leiden_coms = algorithms.leiden(nxg)

# 4. Make plots

COLORS = [
    "#4C72B0", "#DD8452", "#55A868", "#C44E52", "#8172B3",
    "#937860", "#DA8BC3", "#8C8C8C", "#CCB974", "#64B5CD",
]

node_colors = ["#000000"] * len(intensities)
for community_id, community_nodes in enumerate(leiden_coms.communities):
    for node in community_nodes:
        node_colors[node] = COLORS[community_id % len(COLORS)]

fig, [ax0, ax1] = plt.subplots(nrows=2, figsize=(14, 8))

ax0.plot(intensities,linewidth=0.1)
ax0.set_title("Time Series")
plt.xlim([0,1000])
graph_plot_options = {
    "with_labels": False,
    "node_size": 6,
    "node_color": [node_colors[n] for n in nxg.nodes],
}

nx.draw_networkx(nxg, ax=ax1, pos=g.node_positions(), edge_color=[(0, 0, 0, 0.05)], **graph_plot_options)
ax1.tick_params(bottom=True, labelbottom=True)
ax1.plot(intensities, linewidth=0.1, c=(0, 0, 0, 0.15))
ax1.set_title("Visibility Graph")
plt.xlim([0,5000])


plt.figure(figsize=(12,8))
plt.scatter(locs[:,1],locs[:,0],c=intensities,s=30,cmap='Grays',
            vmin=intensities.min(), vmax=intensities.max(),alpha=1)
plt.scatter(locs[:,1],locs[:,0],c=node_colors,s=30,cmap='RdYlBu_r',
            vmin=intensities.min(), vmax=intensities.max(),alpha=0.1)

plt.title('Hilbert Reconstruction with Hilbert Curve')



plt.figure(figsize=(12,8))
plt.scatter(locs[:,1],locs[:,0],c=intensities,s=10,cmap='RdYlBu_r',
            vmin=intensities.min(), vmax=intensities.max(),alpha=1)
plt.scatter(locs[:,1],locs[:,0],c=node_colors,s=10,cmap='RdYlBu_r',
            vmin=intensities.min(), vmax=intensities.max(),alpha=0.75)

plt.title('Hilbert Reconstruction with Hilbert Curve')















# leiden_coms.communities # Identified Clustering
leiden_coms.overlap # Whether the clustering is overlapping or not
leiden_coms.node_coverage # Percentage of nodes covered by the clustering





from cdlib import viz

# communities, scoring = ensemble.random_search(graph=g, method=algorithms.louvain,
#                                                        parameters=[resolution, randomize],
#                                                        quality_score=evaluation.erdos_renyi_modularity,
#                                                        instances=5, aggregate=max)

# print("Communities:\n %s \nConfiguration: %s \nScoring: %s" %(coms.communities, coms.method_parameters, scoring))
viz.plot_community_graph(nxg, leiden_coms, figsize=(10, 10))


leiden_coms.normalized_mutual_information(lp_coms)


len(leiden_coms.communities)


# leiden_coms.average_internal_degree()






# 3. Partition the graph into communities
communities = nx.algorithms.community.greedy_modularity_communities(nxg)




# 4. Make plots

COLORS = [
    "#4C72B0", "#DD8452", "#55A868", "#C44E52", "#8172B3",
    "#937860", "#DA8BC3", "#8C8C8C", "#CCB974", "#64B5CD",
]

node_colors = ["#000000"] * len(intensities)
for community_id, community_nodes in enumerate(communities):
    for node in community_nodes:
        node_colors[node] = COLORS[community_id % len(COLORS)]

fig, [ax0, ax1] = plt.subplots(nrows=2, figsize=(14, 8))

ax0.plot(intensities,linewidth=0.1)
ax0.set_title("Time Series")
plt.xlim([0,1000])
graph_plot_options = {
    "with_labels": False,
    "node_size": 6,
    "node_color": [node_colors[n] for n in nxg.nodes],
}

nx.draw_networkx(nxg, ax=ax1, pos=g.node_positions(), edge_color=[(0, 0, 0, 0.05)], **graph_plot_options)
ax1.tick_params(bottom=True, labelbottom=True)
ax1.plot(intensities, linewidth=0.1, c=(0, 0, 0, 0.15))
ax1.set_title("Visibility Graph")
plt.xlim([0,5000])


len(communities)
